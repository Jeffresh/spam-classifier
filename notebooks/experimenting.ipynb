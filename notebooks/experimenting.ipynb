{
 "cells": [
  {
   "cell_type": "markdown",
   "source": [
    "# Spam Classifier"
   ],
   "metadata": {}
  },
  {
   "cell_type": "code",
   "execution_count": 3,
   "source": [
    "import numpy\n",
    "import pandas \n",
    "import matplotlib.pyplot as plt \n",
    "import seaborn as sns\n",
    "import os\n",
    "import requests\n",
    "from urllib.request import urlopen, urlretrieve\n",
    "from bs4 import BeautifulSoup"
   ],
   "outputs": [],
   "metadata": {}
  },
  {
   "cell_type": "markdown",
   "source": [
    "## Download data"
   ],
   "metadata": {}
  },
  {
   "cell_type": "code",
   "execution_count": 4,
   "source": [
    "url = \"https://spamassassin.apache.org/old/publiccorpus/\""
   ],
   "outputs": [],
   "metadata": {}
  },
  {
   "cell_type": "code",
   "execution_count": 45,
   "source": [
    "def get_file_names(url):\n",
    "    response = urlopen(url)\n",
    "    soup_wrap = BeautifulSoup(response.read())\n",
    "    return (file.contents[0] for file in soup_wrap.find_all('a') if '.' in file.contents[0])\n"
   ],
   "outputs": [],
   "metadata": {}
  },
  {
   "cell_type": "code",
   "execution_count": 48,
   "source": [
    "list(get_file_names(url))"
   ],
   "outputs": [
    {
     "output_type": "execute_result",
     "data": {
      "text/plain": [
       "['20021010_easy_ham.tar.bz2',\n",
       " '20021010_hard_ham.tar.bz2',\n",
       " '20021010_spam.tar.bz2',\n",
       " '20030228_easy_ham.tar.bz2',\n",
       " '20030228_easy_ham_2.tar.bz2',\n",
       " '20030228_hard_ham.tar.bz2',\n",
       " '20030228_spam.tar.bz2',\n",
       " '20030228_spam_2.tar.bz2',\n",
       " '20050311_spam_2.tar.bz2',\n",
       " 'readme.html']"
      ]
     },
     "metadata": {},
     "execution_count": 48
    }
   ],
   "metadata": {}
  },
  {
   "cell_type": "code",
   "execution_count": null,
   "source": [],
   "outputs": [],
   "metadata": {}
  }
 ],
 "metadata": {
  "orig_nbformat": 4,
  "language_info": {
   "name": "python",
   "version": "3.8.10",
   "mimetype": "text/x-python",
   "codemirror_mode": {
    "name": "ipython",
    "version": 3
   },
   "pygments_lexer": "ipython3",
   "nbconvert_exporter": "python",
   "file_extension": ".py"
  },
  "kernelspec": {
   "name": "python3",
   "display_name": "Python 3.8.10 64-bit ('.env': venv)"
  },
  "interpreter": {
   "hash": "3b595b12c8077a94542b933dbf54294e0578bdcab310e5db17c861a07c1b8bb1"
  }
 },
 "nbformat": 4,
 "nbformat_minor": 2
}