{
 "cells": [
  {
   "cell_type": "markdown",
   "source": [
    "# Spam Classifier"
   ],
   "metadata": {}
  },
  {
   "cell_type": "code",
   "execution_count": 27,
   "source": [
    "import numpy\n",
    "import pandas \n",
    "import matplotlib.pyplot as plt \n",
    "import seaborn as sns\n",
    "import os\n",
    "import requests\n",
    "from urllib.request import urlopen, urlretrieve\n",
    "from bs4 import BeautifulSoup"
   ],
   "outputs": [],
   "metadata": {}
  },
  {
   "cell_type": "markdown",
   "source": [
    "## Dowload the data"
   ],
   "metadata": {}
  },
  {
   "cell_type": "markdown",
   "source": [
    "### Get filenames"
   ],
   "metadata": {}
  },
  {
   "cell_type": "code",
   "execution_count": 28,
   "source": [
    "url = \"https://spamassassin.apache.org/old/publiccorpus/\""
   ],
   "outputs": [],
   "metadata": {}
  },
  {
   "cell_type": "code",
   "execution_count": 29,
   "source": [
    "def get_file_names(url:str) -> iter:\n",
    "    response = urlopen(url)\n",
    "    soup_wrap = BeautifulSoup(response.read())\n",
    "    return (file.contents[0] for file in soup_wrap.find_all('a') if '.' in file.contents[0])\n"
   ],
   "outputs": [],
   "metadata": {}
  },
  {
   "cell_type": "code",
   "execution_count": 30,
   "source": [
    "file_names = list(get_file_names(url))\n",
    "file_names"
   ],
   "outputs": [
    {
     "output_type": "execute_result",
     "data": {
      "text/plain": [
       "['20021010_easy_ham.tar.bz2',\n",
       " '20021010_hard_ham.tar.bz2',\n",
       " '20021010_spam.tar.bz2',\n",
       " '20030228_easy_ham.tar.bz2',\n",
       " '20030228_easy_ham_2.tar.bz2',\n",
       " '20030228_hard_ham.tar.bz2',\n",
       " '20030228_spam.tar.bz2',\n",
       " '20030228_spam_2.tar.bz2',\n",
       " '20050311_spam_2.tar.bz2',\n",
       " 'readme.html']"
      ]
     },
     "metadata": {},
     "execution_count": 30
    }
   ],
   "metadata": {}
  },
  {
   "cell_type": "code",
   "execution_count": 31,
   "source": [
    "import collections\n",
    "types = ['easy', 'hard', 'spam']\n"
   ],
   "outputs": [],
   "metadata": {}
  },
  {
   "cell_type": "code",
   "execution_count": 34,
   "source": [
    "def get_order_files_per_type(types:list, file_names: list) -> tuple :\n",
    "    files = collections.defaultdict(list)\n",
    "    other_files = []\n",
    "\n",
    "    for file in file_names:\n",
    "        if any((one_type in file for one_type in types)):\n",
    "            for allowed_type in types:\n",
    "                if allowed_type in file:\n",
    "                    files[allowed_type].append(file)\n",
    "                    break\n",
    "        else:\n",
    "            other_files.append(file)\n",
    "\n",
    "\n",
    "    return other_files, files\n"
   ],
   "outputs": [],
   "metadata": {}
  },
  {
   "cell_type": "code",
   "execution_count": 36,
   "source": [
    "other_files, files = get_order_files_per_type(types, file_names)\n",
    "other_files, files"
   ],
   "outputs": [
    {
     "output_type": "execute_result",
     "data": {
      "text/plain": [
       "(['readme.html'],\n",
       " defaultdict(list,\n",
       "             {'easy': ['20021010_easy_ham.tar.bz2',\n",
       "               '20030228_easy_ham.tar.bz2',\n",
       "               '20030228_easy_ham_2.tar.bz2'],\n",
       "              'hard': ['20021010_hard_ham.tar.bz2',\n",
       "               '20030228_hard_ham.tar.bz2'],\n",
       "              'spam': ['20021010_spam.tar.bz2',\n",
       "               '20030228_spam.tar.bz2',\n",
       "               '20030228_spam_2.tar.bz2',\n",
       "               '20050311_spam_2.tar.bz2']}))"
      ]
     },
     "metadata": {},
     "execution_count": 36
    }
   ],
   "metadata": {}
  },
  {
   "cell_type": "markdown",
   "source": [
    "### Get file names updated"
   ],
   "metadata": {}
  },
  {
   "cell_type": "code",
   "execution_count": 37,
   "source": [
    "def get_updated_file_names(types: list, files:dict) -> dict :\n",
    "    \n",
    "    files_updated = collections.defaultdict(list)\n",
    "\n",
    "    for allowed_type in types:\n",
    "        for file in files[allowed_type]:\n",
    "            file_part = file.split('_')\n",
    "            if '2.' in file_part[-1]:\n",
    "                files_updated[allowed_type+'_2'] = file\n",
    "            else:\n",
    "                if len(files_updated[allowed_type]) > 0:\n",
    "                    date_prev = int(files_updated[allowed_type].split('_')[0])\n",
    "                    date_actual = int(file_part[0])\n",
    "                    if date_actual > date_prev:\n",
    "                        files_updated[allowed_type] = file\n",
    "                else:\n",
    "                    files_updated[allowed_type] = file\n",
    "\n",
    "\n",
    "    return files_updated\n",
    "\n",
    "\n",
    "files_updated = get_updated_file_names(types, files)"
   ],
   "outputs": [],
   "metadata": {}
  },
  {
   "cell_type": "markdown",
   "source": [
    "### Create data location"
   ],
   "metadata": {}
  },
  {
   "cell_type": "code",
   "execution_count": 38,
   "source": [
    "import os\n",
    "import pathlib"
   ],
   "outputs": [],
   "metadata": {}
  },
  {
   "cell_type": "code",
   "execution_count": 47,
   "source": [
    "data_path = os.path.abspath('../data')\n",
    "\n",
    "if not os.path.exists(data_path):\n",
    "    os.makedirs(data_path)"
   ],
   "outputs": [],
   "metadata": {}
  },
  {
   "cell_type": "markdown",
   "source": [
    "### Download the files selected"
   ],
   "metadata": {}
  },
  {
   "cell_type": "code",
   "execution_count": 52,
   "source": [
    "import tarfile"
   ],
   "outputs": [],
   "metadata": {}
  },
  {
   "cell_type": "code",
   "execution_count": 57,
   "source": [
    "def download_file(url_file, dest_path):\n",
    "    r = requests.get(url_file)\n",
    "    file_name = os.path.basename(url_file)\n",
    "    dest_pathfile = os.path.join(dest_path, file_name)\n",
    "    with open(dest_pathfile, 'wb') as f:\n",
    "        f.write(r.content)\n",
    "    \n",
    "    file = tarfile.open(dest_pathfile)\n",
    "    file.extractall(os.path.join(dest_path))\n"
   ],
   "outputs": [],
   "metadata": {}
  },
  {
   "cell_type": "code",
   "execution_count": 58,
   "source": [
    "# Sequential\n",
    "for file in files_updated.values():\n",
    "    url_file = os.path.join(url, file)\n",
    "    download_file(url_file, data_path)\n"
   ],
   "outputs": [],
   "metadata": {}
  },
  {
   "cell_type": "code",
   "execution_count": null,
   "source": [],
   "outputs": [],
   "metadata": {}
  }
 ],
 "metadata": {
  "orig_nbformat": 4,
  "language_info": {
   "name": "python",
   "version": "3.8.10",
   "mimetype": "text/x-python",
   "codemirror_mode": {
    "name": "ipython",
    "version": 3
   },
   "pygments_lexer": "ipython3",
   "nbconvert_exporter": "python",
   "file_extension": ".py"
  },
  "kernelspec": {
   "name": "python3",
   "display_name": "Python 3.8.10 64-bit ('.env': venv)"
  },
  "interpreter": {
   "hash": "3b595b12c8077a94542b933dbf54294e0578bdcab310e5db17c861a07c1b8bb1"
  }
 },
 "nbformat": 4,
 "nbformat_minor": 2
}