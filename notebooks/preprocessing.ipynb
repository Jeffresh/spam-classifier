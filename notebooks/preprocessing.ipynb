{
 "cells": [
  {
   "cell_type": "markdown",
   "source": [
    "## Preprocessors and modeling: Spam Classificator"
   ],
   "metadata": {}
  },
  {
   "cell_type": "code",
   "execution_count": 1,
   "source": [
    "import sys \n",
    "sys.path.append('../scripts')"
   ],
   "outputs": [],
   "metadata": {}
  },
  {
   "cell_type": "code",
   "execution_count": 2,
   "source": [
    "from get_data import *\n",
    "collect_update_data()"
   ],
   "outputs": [
    {
     "output_type": "stream",
     "name": "stderr",
     "text": [
      "d:\\repos\\spam-classifier\\notebooks\\../scripts\\get_data.py:20: GuessedAtParserWarning: No parser was explicitly specified, so I'm using the best available HTML parser for this system (\"html.parser\"). This usually isn't a problem, but if you run this code on another system, or in a different virtual environment, it may use a different parser and behave differently.\n",
      "\n",
      "The code that caused this warning is on line 20 of the file d:\\repos\\spam-classifier\\notebooks\\../scripts\\get_data.py. To get rid of this warning, pass the additional argument 'features=\"html.parser\"' to the BeautifulSoup constructor.\n",
      "\n",
      "  soup_wrap = BeautifulSoup(response.read())\n"
     ]
    },
    {
     "output_type": "stream",
     "name": "stdout",
     "text": [
      "d:\\repos\\spam-classifier\\data\n"
     ]
    }
   ],
   "metadata": {}
  },
  {
   "cell_type": "code",
   "execution_count": 3,
   "source": [
    "from load_data import *\n",
    "data_folder_names = get_folder_names(data_path)\n",
    "emails = load_data(data_folder_names)\n"
   ],
   "outputs": [],
   "metadata": {}
  },
  {
   "cell_type": "code",
   "execution_count": 4,
   "source": [
    "X, y = create_dataset(emails)"
   ],
   "outputs": [],
   "metadata": {}
  },
  {
   "cell_type": "code",
   "execution_count": 5,
   "source": [
    "from sklearn.model_selection import train_test_split"
   ],
   "outputs": [],
   "metadata": {}
  },
  {
   "cell_type": "code",
   "execution_count": 6,
   "source": [
    "X_train, X_test, y_train, y_test = train_test_split(\n",
    "    X, y, test_size=0.2, random_state=42, stratify=y)\n"
   ],
   "outputs": [],
   "metadata": {}
  },
  {
   "cell_type": "code",
   "execution_count": 7,
   "source": [
    "html_spam_emails = [email for email in X_train[y_train == 1]\n",
    "                    if get_structures(email) == \"text/html\"]\n",
    "sample_html_spam = html_spam_emails[7]\n",
    "print(sample_html_spam.get_content().strip()[:100], \"...\")\n"
   ],
   "outputs": [
    {
     "output_type": "stream",
     "name": "stdout",
     "text": [
      "Dear cpunks ,\n",
      "\n",
      "<BODY bgColor=#ffccff>\n",
      "<TABLE border=0 cellPadding=0 cellSpacing=0 width=475>\n",
      "  <TBOD ...\n"
     ]
    }
   ],
   "metadata": {}
  },
  {
   "cell_type": "markdown",
   "source": [
    "## Email Preprocessor"
   ],
   "metadata": {}
  },
  {
   "cell_type": "code",
   "execution_count": 14,
   "source": [
    "try:\n",
    "    import nltk\n",
    "    stemmer = nltk.PorterStemmer()\n",
    "    for word in (\"Computations\", \"Computation\", \"Computing\", \"Computed\", \"Compute\", \"Compulsive\"):\n",
    "        print(word, \"=>\", stemmer.stem(word))\n",
    "except ImportError:\n",
    "    print(\"Error: stemming requires the NLTK module.\")\n"
   ],
   "outputs": [
    {
     "output_type": "stream",
     "name": "stdout",
     "text": [
      "Computations => comput\n",
      "Computation => comput\n",
      "Computing => comput\n",
      "Computed => comput\n",
      "Compute => comput\n",
      "Compulsive => compuls\n"
     ]
    }
   ],
   "metadata": {}
  },
  {
   "cell_type": "code",
   "execution_count": 15,
   "source": [
    "try:\n",
    "    import urlextract  # may require an Internet connection to download root domain names\n",
    "\n",
    "    url_extractor = urlextract.URLExtract()\n",
    "    print(url_extractor.find_urls(\n",
    "        \"Will it detect github.com and https://youtu.be/7Pq-S557XQU?t=3m32s\"))\n",
    "except ImportError:\n",
    "    print(\"Error: replacing URLs requires the urlextract module.\")\n",
    "    url_extractor = None\n"
   ],
   "outputs": [
    {
     "output_type": "stream",
     "name": "stdout",
     "text": [
      "['github.com', 'https://youtu.be/7Pq-S557XQU?t=3m32s']\n"
     ]
    }
   ],
   "metadata": {}
  },
  {
   "cell_type": "code",
   "execution_count": 18,
   "source": [
    "from sklearn.base import BaseEstimator, TransformerMixin\n",
    "from collections import Counter\n",
    "import numpy as np"
   ],
   "outputs": [],
   "metadata": {}
  },
  {
   "cell_type": "code",
   "execution_count": 21,
   "source": [
    "class EmailTransformer(BaseEstimator, TransformerMixin):\n",
    "    def __init__(self, strip_headers=True, lower_case=True, \n",
    "                 remove_punctuation=True, replace_urls=True, replace_numbers=True, stemming=True):\n",
    "        self.strip_headers = strip_headers\n",
    "        self.lower_case = lower_case \n",
    "        self.remove_punctuation = remove_punctuation \n",
    "        self.replace_urls = replace_urls \n",
    "        self.replace_numbers = replace_numbers \n",
    "        self.stemming = stemming\n",
    "\n",
    "        try:\n",
    "            import urlextract  # may require an Internet connection to download root domain names\n",
    "            url_extractor = urlextract.URLExtract()\n",
    "\n",
    "        except ImportError:\n",
    "            print(\"Error: replacing URLs requires the urlextract module.\")\n",
    "            url_extractor = None\n",
    "    \n",
    "    def fit(self, X, y=None):\n",
    "        return self\n",
    "    \n",
    "    def transform(self, X, y=None):\n",
    "        X_transformed = []\n",
    "        for email in X:\n",
    "            text = email_to_text(email) or \"\"\n",
    "\n",
    "            if self.lower_case:\n",
    "                text = text.lower()\n",
    "            if self.replace_urls and url_extractor is not None:\n",
    "                urls = list(set(url_extractor.find_urls(text)))\n",
    "                urls.sort(key=lambda url: len(url), reverse=True)\n",
    "\n",
    "                for url in urls:\n",
    "                    text = text.replace(url, \" URL \")\n",
    "            \n",
    "            if self.replace_numbers:\n",
    "                text = re.sub('r\\W+', ' ', text, flags=re.M)\n",
    "            \n",
    "            word_counts = Counter(text.split())\n",
    "            if self.stemming and stemmer is not None:\n",
    "                stemmed_word_counts = Counter()\n",
    "\n",
    "                for word, count in word_counts.items():\n",
    "                    stemmed_word = stemmer.stem(word)\n",
    "                    stemmed_word_counts[stemmed_word] += count\n",
    "                \n",
    "                word_counts = stemmed_word_counts\n",
    "            \n",
    "            X_transformed.append(word_counts)\n",
    "        \n",
    "        return np.array(X_transformed)\n",
    "\n",
    "            \n"
   ],
   "outputs": [],
   "metadata": {}
  },
  {
   "cell_type": "code",
   "execution_count": 28,
   "source": [
    "X_subset = X_train[:10]\n",
    "X_sub_counts = EmailTransformer().fit_transform(X_subset)\n",
    "X_sub_counts"
   ],
   "outputs": [
    {
     "output_type": "execute_result",
     "data": {
      "text/plain": [
       "array([Counter({'you': 131, 'to': 98, 'and': 93, 'a': 80, 'the': 70, 'grant': 61, 'of': 56, 'fo': 53, 'busi': 42, 'free': 34, 'govern': 33, 'in': 32, 'is': 26, 'money': 25, 'get': 25, 'that': 24, 'will': 24, 'thi': 23, 'are': 23, 'how': 18, 'o': 18, 'home': 17, 'program': 16, 'complet': 16, 'guid': 16, 'step': 16, 'be': 14, 'can': 14, 'with': 14, 'if': 14, 'it': 13, 'peopl': 12, 'from': 12, 'by': 12, 'start': 11, 'an': 11, 'ove': 10, 'not': 10, 'appli': 10, 'as': 10, 'help': 10, 'have': 9, 'at': 8, 'need': 8, 'much': 8, 'on': 8, 'new': 8, 'dollar': 7, 'all': 7, 'keep': 7, 'what': 7, 'ord': 7, 'business.': 7, 'we': 7, 'just': 6, 'state': 6, 'feder': 6, 'yea': 6, 'into': 6, 'know': 6, 'own': 6, 'do': 6, 'access': 6, 'small': 6, 'secret': 6, 'plan': 6, 'base': 6, 'person': 5, 'qualifi': 5, '-': 5, 'each': 5, 'million': 5, 'i': 5, \"it'\": 5, 'receiv': 5, 'these': 5, \"don't\": 5, 'programs,': 5, 'about': 5, 'want': 5, 'so': 5, 'purchas': 5, 'ani': 5, 'more.': 5, 'obtain': 5, 'money,': 5, 'use': 5, 'thousand': 5, 'write': 5, 'one': 4, 'where': 4, 'grants.': 4, 'who': 4, 'through': 4, 'requir': 4, 'onli': 4, 'find': 4, 'out': 4, 'pay': 4, 'there': 4, 'scholarship': 4, 'everi': 4, 'expand': 4, 'go': 4, 'here': 4, 'develop': 4, 'more': 4, 'give': 4, 'ca': 4, 'avail': 4, 'mani': 4, 'result': 4, '\"the': 4, \"i'v\": 4, 'tool': 4, 'direct': 4, 'assist': 4, 'list': 4, 'ou': 4, 'no': 4, 'valuabl': 4, 'bonu': 4, 'tip': 4, 'success': 4, 'insid': 4, 'save': 4, 'make': 4, 'my': 4, 'hyperlink': 4, 'least': 3, '$25,000': 3, 'given': 3, 'away': 3, '&': 3, 'ha': 3, 'whi': 3, 'think': 3, 'eve': 3, 'american': 3, \"you'v\": 3, 'been': 3, 'long': 3, 'even': 3, 'money.': 3, '30': 3, 'billion': 3, 'should': 3, 'absolut': 3, 'sourc': 3, 'consult': 3, 'they': 3, 'most': 3, 'feel': 3, 'oth': 3, 'buy': 3, 'gener': 3, 'education,': 3, 'thei': 3, \"here'\": 3, 'onc': 3, 'specif': 3, 'everyth': 3, 'come': 3, 'loan': 3, 'instruct': 3, \"you'll\": 3, 'guidelin': 3, 'resourc': 3, 'expert': 3, 'onlin': 3, 'discov': 3, 'applic': 3, 'form': 3, 'practic': 3, 'business,': 3, 'up': 3, 'e-book': 3, 'risk': 3, 'guarantee.': 3, 'softwar': 3, 'info': 3, 'inform': 3, 'contain': 3, 'idea': 3, 'best': 3, 'common': 3, 'market': 3, 'lead': 3, 'sale': 3, 'manag': 3, \"i'm\": 3, '\"': 2, 'day': 2, \"i'll\": 2, 'tell': 2, 'you?': 2, 'may': 2, 'unit': 2, 'privat': 2, 'anyon': 2, 'year': 2, 'claim': 2, 'slice': 2, 'bank': 2, 'veri': 2, 'time': 2, 'agenc': 2, 'und': 2, 'decid': 2, 'law': 2, 'your': 2, 'neve': 2, 'free.': 2, 'credit': 2, 'secur': 2, \"doesn't\": 2, 'tax': 2, 'u.s.': 2, 'citizen': 2, 'entitl': 2, 'current': 2, '1,400': 2, 'available.': 2, '20': 2, 'real': 2, 'estat': 2, 'job': 2, 'exist': 2, \"world'\": 2, 'largest': 2, 'government.': 2, 'incred': 2, 'live': 2, 'remain': 2, 'great': 2, 'befor': 2, 'becom': 2, 'huge': 2, 'simpli': 2, 'walk': 2, 'life': 2, 'school': 2, 'legal': 2, 'services,': 2, 'lessons,': 2, 'medic': 2, 'lose': 2, 'educ': 2, 'possibl': 2, 'grant,': 2, 'almost': 2, '.': 2, 'fund': 2, 'made': 2, \"that'\": 2, 'present': 2, 'all.': 2, 'grants\"': 2, 'put': 2, 'locat': 2, 'comprehens': 2, 'mean': 2, 'download': 2, 'aft': 2, 'provid': 2, 'propos': 2, 'click': 2, 'detail': 2, 'numb': 2, 'question': 2, 'directori': 2, 'ventur': 2, 'capit': 2, 'programs.': 2, 'grants,': 2, 'advic': 2, 'businesses,': 2, 'servic': 2, 'unemployed,': 2, 'also': 2, 'endless.': 2, 'could': 2, 'must': 2, 'reason': 2, 'back': 2, 'refund': 2, 'entir': 2, 'part': 2, 'bonus': 2, 'fou': 2, 'guarante': 2, '!!!': 2, 'activ': 2, 'way': 2, 'techniqu': 2, 'auto': 2, 'insurance,': 2, 'purchase,': 2, 'succeed': 2, 'strategi': 2, 'easi': 2, 'them': 2, 'idea.': 2, 'tast': 2, \"what'\": 2, 'guide:': 2, 'templat': 2, 'problem': 2, 'pocket': 2, 'construct': 2, 'mistak': 2, 'partnership.': 2, 'select': 2, 'franchis': 2, 'cost': 2, 'behind': 2, 'profit': 2, 'simple,': 2, 'but': 2, 'five': 2, '23': 2, 'dure': 2, 'care': 2, 'price': 2, '$50,': 2, '$19.99': 2, 'delay': 2, 'moment': 2, 'now': 2, 'which': 2, 'guaranteed!': 1, 'like': 1, 'wide': 1, 'varieti': 1, 'dea': 1, 'seek': 1, 'moment,': 1, 'exactli': 1, 'away,': 1, 'thinking,': 1, '\"how': 1, 'some': 1, 'money\"': 1, 'mayb': 1, 'imposs': 1, 'money?': 1, 'let': 1, 'me': 1, 'impossible!': 1, 'fact,': 1, 'ordinari': 1, 'across': 1, \"foundation'\": 1, 'everyday.': 1, 'apply?': 1, '18': 1, 'old': 1, 'up!': 1, '$500.00': 1, '$50,000.00': 1, 'possible!': 1, 'paid': 1, 'back,': 1, 'pie.': 1, 'loan,': 1, 'tri': 1, 'convent': 1, 'consum': 1, 'lot': 1, 'paperwork,': 1, 'denied.': 1, 'oper': 1, 'same': 1, 'stringent': 1, 'do.': 1, 'need,': 1, 'amount': 1, 'meet': 1, 'criteria,': 1, 'repaid.': 1, 'non': 1, 'taxabl': 1, 'interest': 1, 'none': 1, 'check,': 1, 'collateral,': 1, 'deposit': 1, 'co-signers,': 1, 'bankruptci': 1, 'bad': 1, 'credit,': 1, 'matt': 1, '24,000': 1, '30,000': 1, 'foundat': 1, '20,000': 1, 'agencies.': 1, 'facts:': 1, '1,000,000': 1, 'entrepreneur': 1, '4,000,000': 1, 'invest': 1, '6,000,000': 1, 'colleg': 1, '10,000,000': 1, 'train': 1, 'bett': 1, 'themselves,': 1, 'rush': 1, '\"one-stop-money-shop\"': 1, 'held': 1, 'sound': 1, 'right': 1, 'america': 1, \"wouldn't\": 1, 'delivers:': 1, 'low-interest': 1, 'loans;': 1, 'one-half': 1, 'trillion': 1, 'procur': 1, 'contracts;': 1, '32': 1, 'research': 1, 'economi': 1, 'unpredictable,': 1, 'econom': 1, 'fronts,': 1, 'than': 1, 'boss!': 1, 'spite': 1, 'percept': 1, 'look': 1, 'help,': 1, 'give-away': 1, 'approxim': 1, '8': 1, 'equal': 1, 'share,': 1, 'would': 1, '70,000.': 1, 'becaus': 1, 'somehow': 1, \"isn't\": 1, 'them,': 1, \"there'\": 1, 'too': 1, 'red-tape,': 1, 'contact.th': 1, 'fact': 1, 'is,': 1, 'howev': 1, 'benefit': 1, 'government,': 1, 'also.': 1, 'low': 1, 'incom': 1, 'families,': 1, 'repai': 1, 'home,': 1, 'rent,': 1, 'mortgag': 1, 'payments,': 1, 'util': 1, 'bills,': 1, 'groceries,': 1, 'childcare,': 1, 'fuel,': 1, 'expenses,': 1, 'academ': 1, 'tutoring,': 1, 'clothing,': 1, 'supplies,': 1, 'hous': 1, 'assistance,': 1, 'summ': 1, 'camp,': 1, 'debts,': 1, 'music': 1, 'art': 1, 'extracurricula': 1, 'activities,': 1, 'bill': 1, 'senio': 1, 'citizens,': 1, 'taxes,': 1, 'expens': 1, 'welfare.': 1, 'someon': 1, 'suffer': 1, 'fire': 1, 'replac': 1, 'necessities.': 1, 'preschool': 1, 'children': 1, 'nurseri': 1, 'private,': 1, 'primari': 1, 'secondari': 1, 'schools,': 1, 'men': 1, 'women': 1, 'furth': 1, \"athlete's,\": 1, 'management,': 1, 'engineering,': 1, 'comput': 1, 'science,': 1, 'school,': 1, 'undergraduate,': 1, 'graduate,': 1, 'professional,': 1, 'foreign': 1, 'studi': 1, 'shortest': 1, 'inevitable.': 1, 'congression': 1, 'mandat': 1, 'so!': 1, 'you,': 1, 'prope': 1, 'request.': 1, 'announcing...': 1, 'forget': 1, 'seen': 1, 'heard': 1, 'done': 1, 'togeth': 1, 'blueprint': 1, 'researching,': 1, 'electron': 1, 'book': 1, '(e-book)': 1, 'format,': 1, 'minut': 1, 'sources,': 1, 'contact': 1, 'procedures.': 1, 'find:': 1, 'offer': 1, 'categor': 1, 'name,': 1, 'phone': 1, 'address': 1, 'answ': 1, 'relat': 1, 'application...': 1, 'charg': 1, 'support': 1, 'firm': 1, 'uniqu': 1, 'search': 1, 'allow': 1, 'custom': 1, 'recent': 1, 'announc': 1, 'top': 1, '100': 1, '(base': 1, 'inquiries),': 1, 'sought': 1, 'pie': 1, 'counsel': 1, 'courtesi': 1, 'us': 1, 'covering:': 1, 'improvement,': 1, 'homeownership,': 1, 'land': 1, 'acquisition,': 1, 'site': 1, 'prepar': 1, 'housing,': 1, 'health,': 1, 'training,': 1, 'employment,': 1, '...plu': 1, 'comprehensive,': 1, \"you'r\": 1, 'resident,': 1, 'rang': 1, '$500': 1, '$250,000': 1, 'black': 1, 'alreadi': 1, '15': 1, 'hispanic,': 1, 'christian': 1, 'differ': 1, 'faiths,': 1, 'jewish,': 1, 'catholic.': 1, '550': 1, 'underemployed.': 1, 'eligible!': 1, 'worthwhil': 1, 'purpose.': 1, 'did': 1, 'want?': 1, 'true,': 1, 'instance,': 1, '$65,000': 1, 'begin': 1, 'weight': 1, 'loss': 1, '$8,800': 1, 'tuition': 1, 'nurs': 1, '35,000': 1, 'open': 1, 'day-car': 1, 'cent': 1, 'alway': 1, 'dream': 1, 'owning.': 1, 'then,': 1, 'family.': 1, 'well': 1, 'anoth': 1, 'expans': 1, 'back!': 1, 'confid': 1, 'unhappi': 1, 'within': 1, 'next': 1, '12': 1, 'months,': 1, 'send': 1, 'payment.': 1, 'asked!!': 1, 'insist': 1, 'risk.': 1, 'a...': 1, 'full': 1, 'money-back': 1, '365': 1, 'without': 1, 'might': 1, '\"get': 1, 'taken.\"': 1, 'therefore,': 1, 'materi': 1, 'today...': 1, 'read': 1, 'it,': 1, 'it...': 1, \"aren't\": 1, 'satisfied,': 1, 'cancel,': 1, 'should,': 1, 'immedi': 1, 'price.': 1, \"can't\": 1, 'lose.': 1, '\"sweeten\"': 1, 'deal,': 1, 'includ': 1, 'follow': 1, 'bonuses,': 1, 'gift,': 1, 'late': 1, 'guide!': 1, '#1:': 1, 'fulli': 1, 'featur': 1, 'tutori': 1, 'packag': 1, 'alon': 1, 'worth': 1, 'cd': 1, 'anywhere,': 1, 'actual': 1, 'show': 1, 'say,': 1, 'accept': 1, 'interact': 1, 'grant-writ': 1, 'process': 1, 'teach': 1, 'competit': 1, 'proposals.': 1, 'includes:': 1, 'proposals;': 1, 'package;': 1, 'exampl': 1, 'good,': 1, 'packages;': 1, 'glossari': 1, 'terms;': 1, 'contacts;': 1, 'mock': 1, 'grants-writ': 1, 'abl': 1, 'compar': 1, 'plu': 1, '#2:': 1, 'report:': 1, '61': 1, 'special': 1, 'report': 1, 'dollars.': 1, 'littl': 1, 'known': 1, 'trick': 1, 'airlin': 1, 'fares,': 1, 'rental,': 1, 'buying,': 1, 'leasing,': 1, 'gasoline,': 1, 'repairs,': 1, 'investment,': 1, 'cards,': 1, 'equiti': 1, 'loans,': 1, 'majo': 1, 'appliances,': 1, 'heating,': 1, 'telephon': 1, 'food': 1, 'prescript': 1, 'drug': 1, '#3:': 1, 'manual': 1, 'own,': 1, 'pack': 1, 'guides,': 1, 'forms,': 1, 'worksheet': 1, 'checklists.': 1, 'amaz': 1, 'simpl': 1, 'concept': 1, 'hundr': 1, 'were': 1, 'sold': 1, 'separ': 1, '$40': 1, 'each...': 1, 'determin': 1, 'feasibl': 1, 'fill': 1, 'blank': 1, 'system': 1, 'predict': 1, 'happen': 1, 'shirt': 1, 'dog': 1, 'ideas.': 1, 'explan': 1, 'bankers,': 1, 'prospect': 1, 'partner': 1, 'investor': 1, 'line': 1, 'doo': 1, 'plus,': 1, 'readi': 1, 'easili': 1, 'adapt': 1, 'exact': 1, 'needs.': 1, 'easiest,': 1, 'simplest': 1, 'product': 1, 'anxiou': 1, 'buy.': 1, 'invention.': 1, 'sure': 1, 'cash': 1, 'first': 1, 'venture.': 1, 'complete,': 1, 'must-know': 1, 'must-do': 1, 'information;': 1, 'ignor': 1, 'stand': 1, 'good': 1, 'chanc': 1, 'fail.': 1, 'design': 1, 'following:': 1, 'retail': 1, 'store,': 1, 'manufactur': 1, 'company,': 1, 'nobodi': 1, 'told': 1, 'rais': 1, 'attract': 1, 'investors,': 1, 'proposal,': 1, 'trap': 1, 'avoid,': 1, 'checklist': 1, 'enter': 1, 'costli': 1, 'when': 1, 'you.': 1, 'step-by-step': 1, 'organ': 1, 'cut': 1, 'client': 1, 'mine': 1, 'achiev': 1, 'averag': 1, '28%': 1, '35%': 1, 'reduct': 1, 'technique,': 1, 'too.': 1, 'one!': 1, 'driven': 1, 'plan?': 1, 'drive': 1, 'roof.': 1, 'increas': 1, '64%,': 1, 'call': 1, 'guide\".': 1, 'practical,': 1, 'sens': 1, 'strategy,': 1, 'amazingli': 1, 'enough,': 1, 'understand': 1, 'it.': 1, '#4:': 1, 'fast,': 1, 'no-fril': 1, 'business:': 1, 'dolla': 1, 'businesses?': 1, '24': 1, 'proven': 1, 'turn': 1, 'machine.': 1, 'regul': 1, 'awar': 1, 'avoid': 1, 'errors.': 1, 'reveal': 1, 'ensur': 1, 'fundament': 1, 'financi': 1, 'planning.': 1, 'copi': 1, 'enhanc': 1, 'imag': 1, 'respons': 1, 'customers.': 1, 'solv': 1, 'am': 1, 'presid': 1, 'internet': 1, 'creato': 1, 'cd-rom\"': 1, 'autho': 1, 'books.': 1, 'involv': 1, 'past': 1, 'life,': 1, 'coach,': 1, 'firm,': 1, 'semina': 1, 'businesses.': 1, 'coach': 1, 'dozen': 1, 'owner': 1, 'market,': 1, 'expand,': 1, 'troubles,': 1, 'sell': 1, 'of.': 1, 'tip,': 1, 'trick,': 1, 'learn': 1, 'whole': 1, 'brain': 1, 'e-book.': 1, 'priced?': 1, 'normal': 1, 'but...': 1, '...': 1, 'test,': 1, \"(that'\": 1, '75%': 1, 'off': 1, '...plus,': 1, 'still': 1, 'bonuses.)': 1, 'seriou': 1, 'guide.': 1, 'p.s.': 1, 'difference.': 1, 'nothing.': 1, 'origin': 1, '(if': 1, ')': 1, 'regardless.': 1, '!!!!': 1, 'ship': 1, 'handl': 1, 'sinc': 1, 'email': 1, 'via': 1, 'websit': 1, 'describ': 1, 'above.': 1, 'now!!!': 1, 'abov': 1, 'link': 1, 'work,': 1, '4793sxmk4-211vdmv8083pwko2-994pzzj6881xl37': 1}),\n",
       "       Counter({'and': 16, 'of': 15, 'the': 15, 'you': 15, '>': 12, 'a': 10, 'that': 9, '#': 9, 'with': 8, 'is': 8, 'to': 8, 'it': 7, 'be': 6, 'in': 6, 'men': 5, 'women': 5, 'if': 5, 'thi': 4, 'ani': 4, 'more': 4, 'i': 4, 'male': 4, '--': 4, 'ha': 3, 'sex': 3, 'wa': 3, 'but': 3, 'n': 3, 'fo': 3, 'all': 3, 'had': 3, 'choic': 3, 'between': 3, 'would': 3, 'than': 3, 'have': 3, 'typic': 3, 'precis': 3, 'jump': 3, 'robert': 2, '500,000': 2, 'then,': 2, 'oth': 2, 'extrem': 2, 'numb': 2, 'h,': 2, 'obviou': 2, 'so': 2, 'about': 2, 'behavio': 2, 'femal': 2, 'interest': 2, 'not': 2, 'my': 2, 'fork': 2, 'tend': 2, 'assum': 2, 'peopl': 2, 'promiscu': 2, 'perfectli': 2, 'exactly,': 2, 'may': 2, 'patron': 2, 'definit': 2, 'an': 2, 'pronounc': 2, 'harley': 1, 'writes:': 1, '>ok,': 1, 'then.': 1, 'consid': 1, 'popul': 1, '1,000,000.': 1, 'each': 1, '>pai': 1, 'off': 1, 'women.': 1, '1': 1, 'man,': 1, \"let'\": 1, 'call': 1, 'him': 1, '\"wilt\",': 1, '>also': 1, '499,999': 1, 'neve': 1, 'happened.': 1, 'relev': 1, 'nil.': 1, 'contriv': 1, 'exampl': 1, 'becaus': 1, 'glosd': 1, 'ove': 1, 'point': 1, 'earli': 1, '3-person': 1, 'example.': 1, 'ok,': 1, 'm': 1, 'math,': 1, 'let': 1, 'women,': 1, 'n>2.': 1, 'they': 1, 'pai': 1, 'off.': 1, 'some': 1, 'n>h>0,': 1, 'n-1': 1, 'he': 1, \"hasn't\": 1, 'yet': 1, 'with.': 1, 'pick': 1, 'h': 1, 'might': 1, 'interesting.': 1, 'valu': 1, 'result': 1, 'meaning': 1, 'differ': 1, \"sexes'\": 1, '\"promiscuity\",': 1, 'as': 1, 'commonli': 1, 'understood.': 1, 'should': 1, 'numbers,': 1, 'also': 1, 'true': 1, 'unrealist': 1, 'total': 1, 'distract': 1, 'you.': 1, 'furth': 1, 'hope': 1, 'clea': 1, 'without': 1, 'say': 1, 'outright,': 1, 'model': 1, 'actual': 1, 'approxim': 1, 'clich': 1, '\"common': 1, 'wisdom\"': 1, 'pe': 1, 'gend': 1, 'sexual': 1, 'revers': 1, 'roles.': 1, 'those': 1, 'stereotyp': 1, 'are:': 1, 'seek': 1, 'multipl': 1, 'partner': 1, '\"more': 1, 'promiscuous\"': 1, 'surplu': 1, 'satisfi': 1, 'by': 1, 'small': 1, 'hyperpromiscu': 1, '(often': 1, 'deris': 1, 'label': 1, '\"sluts\").': 1, 'chose': 1, 'type': 1, '\"on': 1, 'average\"': 1, 'explicitli': 1, 'post,': 1, 'sinc': 1, 'one': 1, 'clue.': 1, 'there': 1, 'no': 1, 'disagr': 1, 'us,': 1, 'except': 1, 'am': 1, 'behavi': 1, 'extreme.': 1, 'nope,': 1, 'now': 1, \"you'v\": 1, 'amend': 1, 'mean': 1, 'initi': 1, 'statement': 1, 'make': 1, 'defensible.': 1, 'what': 1, 'object': 1, 'was:': 1, 'harley:': 1, '>the': 1, 'assumpt': 1, 'speci': 1, 'less': 1, '>than': 1, 'simpli': 1, 'doe': 1, 'fit': 1, 'facts,': 1, 'hrdi': 1, 'contended.': 1, 'well,': 1, 'duh!!!': 1, '(heterosexual)': 1, 'ident': 1, 'females.': 1, 'cours': 1, 'shape': 1, 'distribut': 1, 'diff': 1, 'on': 1, 'clue,': 1, 'need': 1, '\"duh!!\"?': 1, 'were': 1, 'talk': 1, 'fuzzy,': 1, 'huf': 1, 'puf': 1, 'word': 1, '\"perfectli': 1, 'obvious\"': 1, '\"exactly,': 1, 'identical\"?': 1, 'concern': 1, '\"typical\",': 1, 'whi': 1, \"didn't\": 1, 'adopt': 1, '\"promiscuous\",': 1, 'rath': 1, 'straw-man': 1, 'which': 1, 'allow': 1, 'interject': 1, '\"duh!!\"': 1, 'mock': 1, 'anthrolopolog': 1, 'professo': 1, 's': 1, 'conclusions?': 1, 'actually,': 1, 'probabl': 1, 'just': 1, 'bad': 1, 'day': 1, 'felt': 1, 'like': 1, 'down': 1, 'throat': 1, 'hell': 1, 'it.': 1, 'are': 1, 'welcom': 1, 'theory!': 1, \"here'\": 1, 'altern': 1, 'theory:': 1, 'when': 1, 'overblown': 1, 'e.g.': 1, '\"duh!!...': 1, 'obvious...': 1, 'identical...\"': 1, 'itself': 1, 'sloppi': 1, 'erroneous,': 1, 'then': 1, 'other': 1, 'get': 1, 'kick': 1, 'out': 1, 'pop': 1, 'balloon.': 1, '-': 1, 'gordon': 1}),\n",
       "       Counter({'td': 13, '<td': 13, 'width=\"58%\"><input': 13, '</t': 13, 'width=\"42%\"': 12, 'type=\"text\"': 12, 't': 11, 'b': 9, '<input': 5, 'align=\"cent': 4, 'the': 4, 'to': 4, 'type=hidden': 4, 'size=\"25\"></td>': 4, '<p': 3, 'of': 3, 'fo': 3, '<b': 3, 'size=\"4\">': 3, 'numb': 3, 'i></td>': 3, 'font': 2, 'cent': 2, 'b>': 2, 'stock': 2, 'market': 2, 'make': 2, 'ove': 2, 'factor': 2, 'account': 2, 'receivables.&nbsp;<b': 2, 'a': 2, 'pleas': 2, 'be': 2, '<form': 2, 'action=\"': 2, 'url': 2, '\"': 2, 'method=post>': 2, 'name=\"subject\"': 2, 'name=\"recipient\"': 2, 'value=\"craigman3us@yahoo.com\">': 2, 'bord': 2, '0\"': 2, 'width=\"89%\"': 2, 'cellspacing=\"0\"': 2, 'cellpadding=\"5\">': 2, '<t': 2, 'size=\"16\"></td>': 2, 'align=\"right\"<i>email': 2, 'address:</i></td>': 2, 'name=\"emailaddress\"': 2, 'type=\"submit\"': 2, 'value=\"submit\"': 2, 'table>': 2, '</form>': 2, '<b>': 2, '<font': 2, '<head>': 1, '<title></title>': 1, '</head>': 1, '<bodi': 1, 'bgcolo': 1, '000000\"': 1, 'text=\"#ffff00\">': 1, 'size=\"4\"><b>financi': 1, 'invest': 1, 'insid': 1, 'news&nbsp;<b': 1, '</font>': 1, '<i><font': 1, 'colo': 1, 'ff0000\">see': 1, 'bottom': 1, 'page': 1, 'remov': 1, 'instructions.</font></i><font': 1, 'size=\"4\"><b>': 1, 'font>': 1, 'ha': 1, 'you': 1, 'concerned?': 1, 'join': 1, 'flight': 1, 'quality.': 1, '25%': 1, 'annually,': 1, 'paid': 1, 'monthli': 1, 'by': 1, 'discov': 1, 'what': 1, 'bank': 1, 'have': 1, 'known': 1, 'decades.': 1, 'har': 1, 'pow': 1, 'and': 1, 'liquid': 1, '�': 1, 'collater': 1, 'safe': 1, 'haven': 1, 'strong': 1, 'returns,': 1, 'while': 1, 'are': 1, 'volatile.&nbsp;<b': 1, 'age': 1, '18.': 1, 'seriou': 1, 'inquiri': 1, 'only.&nbsp;<b': 1, 'free': 1, 'in-depth': 1, 'inform': 1, 'package.': 1, 'fill': 1, 'out': 1, 'form': 1, 'below.<b><b': 1, 'contact': 1, 'me<b': 1, 'p>': 1, 'value=\"invest': 1, 'lead\">': 1, '<div': 1, 'tabl': 1, 'align=\"right\"<i>first': 1, 'name:</td>': 1, 'name=\"firstname\"': 1, 'size=\"20\"></td>': 1, 'align=\"right\"<i>last': 1, 'name:</i></td>': 1, 'name=\"lastname\"': 1, 'align=\"right\"<i>address:</i></td>': 1, 'name=\"address\"': 1, 'size=\"30\"></td>': 1, 'align=\"right\"<i>city:</i></td>': 1, 'name=\"city\"': 1, 'align=\"right\"<i>state:</i></td>': 1, 'name=\"state\"': 1, 'size=\"6\"></td>': 1, 'align=\"right\"<i>zip': 1, 'name=\"zipnumb': 1, 'size=\"12\"></td>': 1, 'align=\"right\"<i>country:</i></td>': 1, 'name=\"country\"': 1, 'align=\"right\"<i>hom': 1, 'name=\"homenumb': 1, 'align=\"right\"<i>busi': 1, 'name=\"businessnumb': 1, 'align=\"right\"<i>best': 1, 'time': 1, 'call:</i></td>': 1, 'name=\"besttocall\"': 1, 'size=\"15\"></td>': 1, 'width=\"42%\"></td>': 1, 'name=\"b1\"><input': 1, 'type=\"reset\"': 1, 'value=\"reset\"': 1, 'name=\"b2\"></td>': 1, '</cent': 1, 'div>': 1, 'nbsp;</p>': 1, '</font></b>': 1, 'value=\"remove\">': 1, 'removed:</p>': 1, '<tabl': 1, 'size=\"25\">': 1, 'name=\"b3\"></td>': 1}),\n",
       "       Counter({'to': 7, 'url': 6, 'you': 6, 'the': 6, 'incom': 4, 'thi': 4, 'get': 3, 'receiv': 3, 'are': 3, 'fo': 3, 'remov': 3, 'substanti': 2, 'monthli': 2, 'maker': 2, 'up': 2, '$21,000.00': 2, 'have': 2, 'make': 2, 'a': 2, 'on': 2, 'click': 2, 'link': 2, 'vouch': 1, 'transf': 1, 'systems/distribut': 1, 'cent': 1, 'pend': 1, 'amount:': 1, 'action:': 1, '************************************************************': 1, 'good': 1, 'news!': 1, 'made': 1, 'substanci': 1, 'list.': 1, 'mean': 1, 'entir': 1, 'system': 1, 'and': 1, 'opportun': 1, 'month.': 1, 'system,': 1, 'follow': 1, 'link!': 1, 'ready,': 1, 'will': 1, 'immedi': 1, 'all': 1, 'inform': 1, 'need': 1, 'income.': 1, 'what': 1, 'wait': 1, 'email': 1, 'due': 1, 'request': 1, 'info': 1, 'internet': 1, 'businesses.': 1, 'if': 1, 'not': 1, 'long': 1, 'look': 1, 'one,': 1, 'pleas': 1, 'below.': 1, 'below': 1, 'yourself': 1, 'aol': 1, 'user': 1, '<a': 1, 'href=\"': 1, '\">': 1, 'me</a>': 1, '--': 1, 'irish': 1, 'linux': 1, \"users'\": 1, 'group:': 1, 'ilug@linux.i': 1, 'un)subscript': 1, 'information.': 1, 'list': 1, 'maintain': 1, 'listmast': 1, 'linux.i': 1}),\n",
       "       Counter({'the': 33, 'of': 27, 'in': 10, 'a': 9, 'that': 7, 'to': 7, 'and': 7, 'with': 6, 'meteoroid': 6, 'event': 5, 'light': 5, 'about': 5, '1': 5, 'februari': 5, 'as': 5, 'are': 4, 'tnt': 4, 'kt': 4, 'atmospher': 4, 'energi': 4, 'initi': 4, '1994': 4, 'caus': 4, 'sikhote-alin': 4, 'will': 4, 'these': 3, \"we'v\": 3, 'fo': 3, 'impact': 3, 'numb': 3, 'larg': 3, 'high': 3, 'by': 3, 'disrupt': 3, 'at': 3, 'altitud': 3, 'mar': 3, 'mass': 3, 'into': 3, 'km': 3, 'would': 3, 'simila': 3, 'on': 2, '>': 2, 'be': 2, 'start': 2, 'deep': 2, 'infrasound': 2, 'station': 2, 'but': 2, 'it': 2, 'hit': 2, 'url': 2, 'bright': 2, 'flash': 2, 'impuls': 2, 'have': 2, 'been': 2, 'intens': 2, 'creat': 2, 'techniqu': 2, 'meteo': 2, 'wa': 2, 'is': 2, 'thi': 2, 'penetr': 2, 'angl': 2, 'veloc': 2, 'disintegr': 2, 'event.': 2, 'probabl': 2, 'small': 2, 'fragment': 2, 'low': 2, 'reach': 2, 'surfac': 2, 'thu,': 1, '25': 1, 'jul': 1, '2002,': 1, 'jon': 1, 'o.': 1, 'wrote:': 1, 'ha': 1, 'anyon': 1, 'consid': 1, 'fact': 1, 'occurr': 1, 'appea': 1, 'increasing.': 1, \"i'm\": 1, 'awar': 1, 'mayb': 1, 'more': 1, 'public': 1, 'surround': 1, 'no,': 1, \"it'\": 1, 'just': 1, 'looking.': 1, 'aft': 1, 'actual': 1, 'look': 1, '(pressur': 1, 'waves)': 1, 'network': 1, 'design': 1, 'enforc': 1, 'nuke': 1, 'test': 1, 'ban': 1, 'treati': 1, 'discov': 1, 'pretti': 1, 'big': 1, 'norm.': 1, 'current': 1, 'can': 1, 'detect': 1, 'bolides/meteoroid': 1, '~10': 1, 't': 1, 'scale,': 1, 'some': 1, '10': 1, 'rel': 1, 'frequent.': 1, 'peopl': 1, 'die': 1, 'tunguska': 1, '(1908,': 1, '10-15': 1, 'mt),': 1, 'despit': 1, 'middl': 1, 'nowhere.': 1, 'earth': 1, '0.1-': 1, 'regist': 1, 'usa': 1, 'dod': 1, 'satellit': 1, 'equip': 1, 'photoelectr': 1, 'detector': 1, '[9-11].': 1, '(mainli': 1, '30-45': 1, 'km).': 1, 'sever': 1, 'assess': 1, \"oid'\": 1, 'characterist': 1, 'from': 1, 'curv': 1, 'height': 1, 'peak': 1, 'develop': 1, '[3,12].': 1, 'use': 1, 'preatmospher': 1, 'kinet': 1, 'fifth': 1, 'intern': 1, 'confer': 1, 'sandstorms:': 1, 'i.v.nemtchinov,': 1, 'o.p.popova,': 1, 'v.a.rybakov,': 1, 'v.v.shuvalov': 1, 'determined.': 1, 'biggest': 1, 'ini-': 1, 'tial': 1, '30-40': 1, '(o': 1, '400': 1, 't).': 1, '4.5': 1, 'which': 1, 'deepli': 1, '(at': 1, 'an': 1, '45': 1, 'degre': 1, '24': 1, 'km/s)': 1, 'abov': 1, '34': 1, '21': 1, '[9,12].': 1, 'anoth': 1, 'famou': 1, 'event,': 1, 'show': 1, '12': 1, '1947': 1, 'event),': 1, 'may': 1, 'compar': 1, 'same,': 1, 'well': 1, 'trajectori': 1, 'inclination,': 1, 'almost': 1, 'twice': 1, 'constitut': 1, 'part': 1, 'pre-': 1, 'breakdown': 1, 'contrast': 1, 'rarefi': 1, 'analog': 1, 'im-': 1, 'pactor': 1, 'layer': 1, 'atmos-': 1, 'phere.they': 1, '15': 1, 'o': 1, 'even': 1, 'planet': 1, 'surface,': 1, 'partial': 1, 'form.': 1, 'onli': 1, 'first': 1, 'occu': 1, 'if': 1, 'ent': 1, 'martian': 1, 'atmosphere.': 1, 'bodi': 1, 'tens': 1, 'swarm': 1, 'fragments.': 1, 'form': 1, 'frag-': 1, 'ment': 1, 'due': 1, 'velocity.': 1, 'they': 1, 'crate': 1, 'size': 1, 'undisrupt': 1, 'meteoroid.': 1}),\n",
       "       Counter({'a': 7, 'the': 7, 'hi': 4, 'to': 4, 'chiba': 3, 'wa': 3, 'hamano': 3, 'arrest': 2, 'fo': 2, 'mobil': 2, 'phone': 2, 'of': 2, 'skirt': 2, 'she': 2, 'an': 2, 'escalato': 2, 'polic': 2, 'from': 2, 'girl': 2, 'he': 2, 'took': 2, 'by': 2, 'forwarded-by:': 1, 'william': 1, 'knowl': 1, '<erehwon@c4i.org>': 1, 'url': 1, 'mainichi': 1, 'shimbun': 1, 'dec.': 1, '1,': 1, '2002': 1, 'kashiwa,': 1, '--': 1, 'man': 1, 'ha': 1, 'been': 1, 'use': 1, 'camera-equip': 1, 'take': 1, 'photo': 1, 'insid': 1, \"schoolgirl'\": 1, 'as': 1, 'rode': 1, 'here,': 1, 'said.': 1, 'toyokazu': 1, 'hamano,': 1, '40,': 1, 'compani': 1, 'employe': 1, 'noda,': 1, 'prefecture,': 1, 'break': 1, 'prefectur': 1, 'govern': 1, 'law': 1, 'forbid': 1, 'peopl': 1, 'creat': 1, 'public': 1, 'nuisance.': 1, 'admit': 1, 'allegations.': 1, 'said': 1, 'ride': 1, 'behind': 1, 'on': 1, 'at': 1, 'j': 1, 'kashiwa': 1, 'station': 1, 'when': 1, 'out': 1, 'phone,': 1, 'held': 1, 'it': 1, 'underneath': 1, \"girl'\": 1, 'and': 1, 'photo.': 1, 'alert': 1, 'presenc': 1, 'nois': 1, 'emit': 1, \"camera'\": 1, 'shutt': 1, 'turn': 1, 'around': 1, 'catch': 1, 'with': 1, 'hand': 1, 'between': 1, 'legs.': 1}),\n",
       "       Counter({'the': 5, 'it': 3, \"i'm\": 2, 'play': 2, 'encrypt': 2, 'xine': 2, 'i': 2, 'work': 2, 'updat': 2, 'is': 2, 'of': 2, 'url': 2, 'hi,': 1, 'no': 1, 'long': 1, 'abl': 1, 'to': 1, \"dvd'\": 1, 'use': 1, 'rpm': 1, 'from': 1, 'freshrpms.': 1, 'think': 1, 'wa': 1, 'about': 1, 'a': 1, 'week': 1, 'ago': 1, 'when': 1, 'last': 1, 'rent': 1, 'some': 1, \"dvd's,\": 1, 'just': 1, 'fine,': 1, 'but': 1, 'appar': 1, 'sinc': 1, 'latest': 1, 'on': 1, 'freshrpms,': 1, \"won't\": 1, 'anymore.': 1, 'output': 1, ':': 1, 'input_dvd:': 1, 'sorry,': 1, 'thi': 1, 'plugin': 1, \"doesn't\": 1, 'dvds.': 1, 'legal': 1, 'statu': 1, 'css': 1, 'decrypt': 1, 'unclea': 1, 'and': 1, 'we': 1, \"can't\": 1, 'provid': 1, 'such': 1, 'code.': 1, 'pleas': 1, 'check': 1, 'fo': 1, 'more': 1, 'information.': 1, 'pretti': 1, 'sure': 1, 'with': 1, 'previou': 1, 'freshrpm': 1, 'release...': 1, 'ani': 1, 'way': 1, 'roll': 1, 'back': 1, '?': 1, 'nick': 1, 'verhaegen': 1, '_______________________________________________': 1, 'rpm-list': 1, 'mail': 1, 'list': 1, '<rpm-list@freshrpms.net>': 1}),\n",
       "       Counter({'the': 23, 'desert': 11, 'and': 11, 'that': 6, 'are': 6, 'to': 6, 'of': 6, 'in': 5, 'is': 5, 'facil': 5, 'train': 5, 'fo': 4, 'warfar': 4, 'all': 3, 'have': 3, 'been': 3, 'a': 3, 'they': 3, 'use': 3, 'environment': 3, '>': 2, 'neve': 2, 'mind': 2, 'southwest,': 2, 'fort': 2, 'deep': 2, 'oth': 2, 'exercises.': 2, 'mechan': 2, 'unit': 2, 'be': 2, 'move': 2, 'heavi': 2, 'militari': 2, 'these': 2, 'lawsuit': 2, 'southwest': 2, 'endang': 2, 'on': 1, 'wed,': 1, '2002-07-31': 1, 'at': 1, '15:16,': 1, 'elia': 1, 'sinderson': 1, 'wrote:': 1, 'heh.': 1, 'perfectli': 1, 'good': 1, 'right?': 1, 'o': 1, 'area': 1, 'too': 1, 'hot': 1, 'training?': 1, \"i'll\": 1, 'understand.': 1, 'primari': 1, 'school': 1, 'most': 1, 'notabl': 1, 'irwin': 1, 'mojave/anza': 1, 'borrego': 1, '(the': 1, 'headquart': 1, 'core': 1, 'thing': 1, 'related),': 1, 'long': 1, 'time.': 1, 'there': 1, 'two': 1, 'reason': 1, 'immedi': 1, 'come': 1, 'as': 1, 'whi': 1, 'do': 1, 'not': 1, 'irwin,': 1, 'edward': 1, 'afb,': 1, 'expans': 1, 'tradit': 1, 'first': 1, 'logistical:': 1, 'virtual': 1, 'infantri': 1, 'locat': 1, 'east': 1, 'rockies,': 1, 'it': 1, 'must': 1, 'veri': 1, 'expens': 1, 'entir': 1, 'combat': 1, 'divis': 1, 'coupl': 1, 'thousand': 1, 'mile': 1, 'everi': 1, 'time': 1, 'want': 1, 'run': 1, 'thi': 1, 'particularli': 1, 'true': 1, 'sinc': 1, 'so': 1, 'much': 1, 'ou': 1, 'made': 1, 'up': 1, 'reserv': 1, 'compon': 1, 'days,': 1, 'mean': 1, 'you': 1, \"can't\": 1, 'soldier': 1, 'where': 1, 'are.': 1, 'second': 1, 'pend': 1, 'judici': 1, 'action': 1, 'injunctions.': 1, 'aggress': 1, 'assault': 1, 'by': 1, 'organ': 1, 'who': 1, 'make': 1, 'case': 1, 'zip': 1, 'back': 1, 'forth': 1, 'across': 1, 'tortois': 1, 'bunch': 1, 'theoret': 1, 'speci': 1, 'concentr': 1, 'deserts.': 1, 'abil': 1, 'ha': 1, 'significantli': 1, 'imped': 1, 'day': 1, 'while': 1, 'whatnot': 1, 'with': 1, 'variou': 1, 'group': 1, 'sort': 1, 'out.': 1, '-jame': 1, 'roger': 1, 'jame': 1, 'best.com': 1, 'url': 1}),\n",
       "       Counter({'>': 26, 'a': 11, 'that': 7, 'url': 6, 'it': 4, 'and': 4, 'i': 4, 'e': 4, 'the': 4, 't': 3, 'h': 3, 'thi': 3, 'is': 3, 'get': 3, 'list': 3, 'of': 3, 'u': 2, 'o': 2, 'use': 2, '>>>>': 2, '>>>': 2, 'spam': 2, 'hit': 2, 'into': 2, '>>': 2, 'be': 2, 'text': 2, 'd': 2, 'l': 2, 'n': 2, 'space': 2, 'to': 2, 'one': 2, 'match': 2, 'chars,': 2, '-------------------------------------------------------': 2, 'email': 2, 'sponsor': 2, 'by:': 2, 'osdn': 2, '-': 2, 'tire': 2, 'same': 2, 'old': 2, 'cell': 2, 'phone?': 2, 'new': 2, 'here': 2, 'fo': 2, 'free!': 2, '_______________________________________________': 2, 'spamassassin-devel': 2, 'mail': 2, 'spamassassin-devel@lists.sourceforge.net': 2, 'polit': 1, 'news': 1, 'too.': 1, 'justin': 1, 'mason': 1, 'wrote:': 1, '0.978': 1, '0.540': 1, '1.184': 1, '0.31': 1, '-1.00': 1, 'fwd_msg': 1, \">>>i'm\": 1, 'bit': 1, 'surpris': 1, 'ani': 1, 'one.': 1, 'did': 1, 'somebodi': 1, 'forward': 1, '>>>spam': 1, 'then': 1, 'went': 1, 'corpus?': 1, '>>mi': 1, 'corpu': 1, 'quit': 1, 'clean': 1, 'hits.': 1, 'yes,': 1, \"it'\": 1, 'frequent': 1, 'forg': 1, 'already.': 1, '1.582': 1, '2.226': 1, '1.279': 1, '0.64': 1, '0.39': 1, 'gappy_text': 1, '>>>gappi': 1, 'in': 1, 'non-spam?': 1, 'must': 1, 'something.': 1, '>>>mayb': 1, 'just': 1, 'remov': 1, 'from': 1, '\"gap\"': 1, 'characters?': 1, '>>fo': 1, '2.50,': 1, 'we': 1, 'could': 1, 'tri': 1, 'figur': 1, 'out': 1, 'which': 1, 'nonspam': 1, 'are': 1, '>>improv': 1, 'rule.': 1, 'btw': 1, 'subscrib': 1, 'media': 1, 'unspun': 1, 'newslett': 1, 'few': 1, 'other': 1, 'regularli': 1, 'thing.': 1, 'split': 1, '2,': 1, 'gappi': 1, 'with': 1, 'punctuat': 1, 'between': 1, 'would': 1, 'probabl': 1, 'help.': 1, 'if': 1, \"anyone'\": 1, 'bothered,': 1, \"i'd\": 1, 'suggest': 1, 'file': 1, 'bug.': 1, '--j.': 1}),\n",
       "       Counter({'the': 66, '<b': 66, 'b': 42, 'to': 25, 'and': 23, 'will': 19, 'it': 19, 'url': 17, 'of': 17, 'a': 17, 'in': 16, 'that': 13, 'tivo': 12, 'on': 10, 'tv': 10, 'futur': 9, 'thi': 9, 'fo': 9, 'is': 9, 'interact': 8, '--': 8, 'you': 7, 'cabl': 7, 'o': 7, 'an': 7, 'ou': 7, 'at': 7, 'have': 7, 'are': 6, 'news': 6, 'predict': 6, 'as': 6, 'by': 6, 'ha': 6, 'with': 6, 'newslett': 5, 'who': 5, 'pow': 5, 'need': 5, 'be': 5, 'could': 5, 'pv': 5, 'not': 5, 'say': 5, 'i': 4, 'issu': 4, 'wheth': 4, 'we': 4, 'been': 4, 'whi': 4, 'next': 4, 'five': 4, 'now': 4, 'sell': 4, 'click': 4, 'compani': 4, 'network': 4, 'industri': 4, 'subscrib': 3, \"it'\": 3, 'latest': 3, 'such': 3, 'edit': 3, 'rankings!': 3, 'number': 3, 'come': 3, 'advertis': 3, '=-=-=-=-=-=-=-=-=-=-=-=-=-=-=-=-=-=': 3, 'merg': 3, 'did': 3, 'media': 3, 'tivo,': 3, 'which': 3, 'even': 3, 'servic': 3, 'peopl': 3, 'if': 3, 'right': 3, 'decid': 3, 'may': 3, '#1': 2, 'first': 2, 'get': 2, 'find': 2, 'relat': 2, 'tv,': 2, 'give': 2, 'and,': 2, 'no': 2, 'he': 2, 'hollywood': 2, 'report': 2, 'off': 2, 'all-new': 2, 'of...<b': 2, 'boost': 2, 'sub': 2, 'months.': 2, 'tv.': 2, 'tivo:': 2, 'neve': 2, 'break': 2, 'attractions!': 2, 'reach': 2, 'more': 2, 'than': 2, 'includ': 2, 'how': 2, 'everi': 2, 'most': 2, 'new': 2, 'approv': 2, 'echosta': 2, 'cox': 2, 'liberti': 2, 'video': 2, 'record': 2, 'ultim': 2, 'surviv': 2, 'launch': 2, \"company'\": 2, 'below': 2, 'question': 2, 'commerci': 2, 'there': 2, 'support': 2, 'doe': 2, 'would': 2, 'tivo.': 2, 'brand': 2, 'about': 2, 'they': 2, 'but': 2, 'wall': 2, 'all': 2, 'some': 2, 'holiday': 2, 'stock': 2, 'until': 2, 'down': 2, 'and<b': 2, 'just': 2, 'fund': 2, 'blitz': 2, 'show': 2, 'can': 2, 'consum': 2, 'aft': 2, 'current': 2, 'what': 2, 'also': 2, 'hdtv': 2, 'accord': 2, 'tv?': 2, 'emmy?': 2, 'read': 2, 'august': 1, '7,': 1, '2002)': 1, 'hi': 1, 'everyone,': 1, 'all,': 1, 'want': 1, 'welcom': 1, 'those<b': 1, 'time.': 1, 'here': 1, 'hard-hit': 1, 'commentari': 1, 'analysis<b': 1, 'television.<b': 1, 'battl': 1, 'between<b': 1, 'networks,': 1, 'emmi': 1, 'race,': 1, 'feder': 1, \"government's<b\": 1, 'fight': 1, 'promot': 1, 'hdtv,': 1, 'scoop': 1, 'befor': 1, 'actual': 1, 'occurs.': 1, 'long-tim': 1, 'subscribers<b': 1, 'tell': 1, 'you,': 1, 'pull': 1, 'punches.': 1, 'fyi': 1, ',': 1, 'base': 1, 'lo': 1, 'angeles,': 1, 'own': 1, 'manag': 1, 'phillip': 1, 'swann,<b': 1, 'autho': 1, '\"tv': 1, 'dot': 1, 'com:': 1, 'television.\"': 1, 'quot': 1, 'expert': 1, 'publications<b': 1, 'varieti': 1, 'electron': 1, 'media.)': 1, 'now,': 1, 'issue,': 1, 'plus:': 1, 'tivo<b': 1, 'desper': 1, 'during<b': 1, '-------------': 1, '|||': 1, '=-=-=-=-=-=-=-=-=-=-=-=-=-=-=-=-=-=>>': 1, 'sta': 1, 'today': 1, \"b>tvpredictions'<b\": 1, 'weekli': 1, 'b><b': 1, 'b>3,000': 1, 'subscribers,</b><b': 1, \"tv'\": 1, 'top<b': 1, 'decision-makers.': 1, 'b>promoting</b>': 1, 'event?<b': 1, '<b>new</b>': 1, 'service?<b': 1, 'look': 1, 'b>brand</b>': 1, 'awareness?<b': 1, 'well..advertis': 1, 'already!!<b': 1, 'past': 1, 'include:<b': 1, 'b>american': 1, 'film': 1, 'institute<b': 1, 'carmel': 1, 'group<b': 1, 'iseetv<b': 1, 'iacta<b': 1, 'espial</b><b': 1, 'learn': 1, 'can<b': 1, 'targeted<b': 1, 'audience,': 1, 'below<b': 1, 'send': 1, 'e-mail': 1, 'to:<b': 1, 'b>advertising@<b': 1, '</b>': 1, 'week,': 1, 'publish': 1, 'rankings.': 1, 'rank': 1, '10': 1, 'companies<b': 1, 'benefit': 1, 'from': 1, 'deployment<b': 1, 'technology.': 1, \"week'\": 1, 'highlights:<b': 1, 'fcc': 1, 'directv<b': 1, 'scale': 1, 'back': 1, 'video<b': 1, 'demand': 1, 'plans?;': 1, 'buy<b': 1, 'netherlands?;': 1, 'nbc': 1, 'smoke': 1, 'crack?<b': 1, 'out': 1, 'rankings!<b': 1, 'readi': 1, 'this?<b': 1, 'month': 1, 'determin': 1, 'person': 1, 'service,<b': 1, 'business.<b': 1, 'year': 1, 'ago,': 1, 'less': 1, '500,000': 1, 'subscribers.': 1, 'stock<b': 1, 'dip': 1, 'three': 1, 'week.': 1, 'execs<b': 1, 'openli': 1, 'digit': 1, 'permit': 1, 'skip': 1, 'few': 1, 'remote,': 1, 'destroy': 1, 'thei': 1, 'advertising<b': 1, 'models.': 1, 'hint': 1, 'move': 1, 'permit<b': 1, 'skipping.': 1, 'credit,': 1, 'remark': 1, 'success': 1, 'build': 1, 'loyalti': 1, 'awareness.': 1, '97': 1, 'percent': 1, 'have<b': 1, 'recommend': 1, 'friend.': 1, 'when<b': 1, 'talk': 1, 'pvrs,': 1, '(just': 1, 'like': 1, 'way': 1, '\"coke\"': 1, 'when': 1, 'talk<b': 1, 'soft': 1, 'drinks.': 1, ')<b': 1, 'street,': 1, 'grow': 1, 'impatient.': 1, 'start<b': 1, 'put': 1, 'big': 1, 'board': 1, 'do': 1, 'season.': 1, \"doesn't,\": 1, 'analyst': 1, 'run': 1, 'hills.': 1, 'push<b': 1, 'price': 1, 'furth': 1, 'happens,': 1, 'two': 1, 'choices:<b': 1, 'und': 1, 'duress': 1, 'wait': 1, 'dri': 1, 'up.': 1, 'consequently,': 1, 'intens': 1, 'market': 1, 'ove': 1, 'months,': 1, 'through': 1, 'season.<b': 1, 'sharp': 1, 'increas': 1, 'retail': 1, 'distribution,': 1, 'p': 1, 'efforts.': 1, 'street': 1, 'lead': 1, 'category.': 1, 'it<b': 1, 'generate<b': 1, 'mass': 1, 'demand.': 1, 'demonstr': 1, 'that?<b': 1, 'anyth': 1, 'short': 1, '750,000': 1, 'yea': 1, 's': 1, 'end<b': 1, 'has<b': 1, 'stuff.': 1, 'execs,': 1, 'watching<b': 1, 'closely,': 1, 'might': 1, 'ad': 1, 'great': 1, 'point': 1, 'all.': 1, 'does<b': 1, 'agreement': 1, 'decide<b': 1, 'stay': 1, 'unbrand': 1, 'directv': 1, 'd.c.': 1, 'partnership': 1, 'directv,<b': 1, 'unclea': 1, 'happen': 1, 'deal': 1, 'approved.)': 1, 'so': 1, 'much': 1, 'stake': 1, 'extreme<b': 1, \"tivo'\": 1, 'decided<b': 1, 'sever': 1, 'succeed?': 1, 'achieve<b': 1, 'partial': 1, 'success.': 1, 'maintain': 1, 'claim<b': 1, 'service.': 1, 'howev': 1, 'time,': 1, 'company<b': 1, 'larg': 1, 'outfit,': 1, 'soni': 1, 'perhaps<b': 1, 'media.': 1, 'necessari': 1, 'connections<b': 1, 'long-term': 1, 'growth': 1, 'survival.<b': 1, 'see': 1, 'below!': 1, 'know': 1, 'that...<b': 1, 'slow': 1, 'roll-out': 1, 'demand?<b': 1, 'idea': 1, 'about,': 1, 'study?<b': 1, 'one': 1, 'top': 1, 'exec': 1, 'viewer': 1, 'soon': 1, 'pay': 1, 'off-ai': 1, 'free': 1, 'associ': 1, 'press,': 1, 'spread': 1, 'fea': 1, 'culture?<b': 1, 'la': 1, 'vega': 1, 'west': 1, \"wing'\": 1, 'martin': 1, 'sheen<b': 1, 'shoo-in': 1, 'best': 1, 'acto': 1, 'these': 1, 'mani': 1, 'stori': 1, 'avail': 1, 'cnn': 1, 'larri': 1, 'king,': 1, 'expos': 1, 'forrest': 1, 'research<b': 1, 'josh': 1, 'bernoff,': 1, 'perhap': 1, 'provoc': 1, 'story,': 1, '\"sex': 1, 'tv.\"': 1, 'tv!': 1, 'published<b': 1, 'friday.': 1, 'issues:<b': 1, 'donahue:': 1, 'wa': 1, \"what'\": 1, 'wrong': 1, 'interactive<b': 1, 'chang': 1, 'forev': 1, 'win': 1, 'exclus': 1, 'forecast.<b': 1, 'check': 1, 'daili': 1, 'more<b': 1, 'coverag': 1, 'email:': 1, 'swann@': 1, 'voice:': 1, '310-314-0603': 1, 'web:': 1, '------------------------------------------------': 1, 'email': 1, 'sent': 1, 'request,': 1, '.': 1, 'visit': 1, 'subscript': 1, 'cent': 1, 'interest': 1, 'unsubscribe.': 1, 'view': 1, 'privaci': 1, 'policy:': 1, 'power': 1, 'constant': 1, 'contact(': 1})],\n",
       "      dtype=object)"
      ]
     },
     "metadata": {},
     "execution_count": 28
    }
   ],
   "metadata": {}
  },
  {
   "cell_type": "code",
   "execution_count": 27,
   "source": [
    "from scipy.sparse import csr_matrix\n",
    "\n",
    "class WordCounterToVectorTransformer(BaseEstimator, TransformerMixin):\n",
    "    def __init__(self, vocabulary_size=1000):\n",
    "        self.vocabulary_size = vocabulary_size\n",
    "    \n",
    "    def fit(self, X, y=None):\n",
    "        total_count = Counter()\n",
    "        for word_count in X:\n",
    "            for word, count in word_count.items():\n",
    "                total_count[word] += min(count, 10)\n",
    "        \n",
    "        most_common = total_count.most_common()[:self.vocabulary_size]\n",
    "        self.most_common_ = most_common\n",
    "        self.vocabulary_ = {word: index + 1 for index, (word, count) in enumerate(most_common)}\n",
    "        return self\n",
    "    \n",
    "    def transform(self, X, y=None):\n",
    "        rows = []\n",
    "        cols = []\n",
    "        data = []\n",
    "\n",
    "        for row, word_count in enumerate(X):\n",
    "            for word, count in word_count.items():\n",
    "                rows.append(row)\n",
    "                cols.append(self.vocabulary_.get(word, 0))\n",
    "                data.append(count)\n",
    "        \n",
    "        return csr_matrix((data, (rows, cols)), shape=(len(X), self.vocabulary_size + 1))\n"
   ],
   "outputs": [],
   "metadata": {}
  },
  {
   "cell_type": "code",
   "execution_count": 30,
   "source": [
    "vocab_transformer = WordCounterToVectorTransformer(vocabulary_size=10)\n",
    "X_few_vectors = vocab_transformer.fit_transform(X_sub_counts)\n",
    "X_few_vectors"
   ],
   "outputs": [
    {
     "output_type": "execute_result",
     "data": {
      "text/plain": [
       "<10x11 sparse matrix of type '<class 'numpy.intc'>'\n",
       "\twith 96 stored elements in Compressed Sparse Row format>"
      ]
     },
     "metadata": {},
     "execution_count": 30
    }
   ],
   "metadata": {}
  },
  {
   "cell_type": "code",
   "execution_count": 31,
   "source": [
    "X_few_vectors.toarray()"
   ],
   "outputs": [
    {
     "output_type": "execute_result",
     "data": {
      "text/plain": [
       "array([[2197,   70,   80,   98,   56,   93,   24,   32,   53,   26,   13],\n",
       "       [ 407,   15,   10,    8,   15,   16,    9,    6,    3,    8,    7],\n",
       "       [ 313,    4,    2,    4,    3,    1,    0,    0,    3,    0,    0],\n",
       "       [ 115,    6,    2,    7,    0,    1,    0,    0,    3,    0,    0],\n",
       "       [ 364,   33,    9,    7,   27,    7,    7,   10,    3,    2,    2],\n",
       "       [ 110,    7,    7,    4,    2,    1,    0,    0,    2,    0,    1],\n",
       "       [  85,    5,    1,    1,    2,    1,    0,    0,    1,    2,    3],\n",
       "       [ 209,   23,    3,    6,    6,   11,    6,    5,    4,    5,    1],\n",
       "       [ 215,    4,   11,    2,    3,    4,    7,    1,    2,    3,    4],\n",
       "       [ 993,   66,   17,   25,   17,   23,   13,   16,    9,    9,   19]],\n",
       "      dtype=int32)"
      ]
     },
     "metadata": {},
     "execution_count": 31
    }
   ],
   "metadata": {}
  },
  {
   "cell_type": "code",
   "execution_count": 32,
   "source": [
    "vocab_transformer.vocabulary_"
   ],
   "outputs": [
    {
     "output_type": "execute_result",
     "data": {
      "text/plain": [
       "{'the': 1,\n",
       " 'a': 2,\n",
       " 'to': 3,\n",
       " 'of': 4,\n",
       " 'and': 5,\n",
       " 'that': 6,\n",
       " 'in': 7,\n",
       " 'fo': 8,\n",
       " 'is': 9,\n",
       " 'it': 10}"
      ]
     },
     "metadata": {},
     "execution_count": 32
    }
   ],
   "metadata": {}
  },
  {
   "cell_type": "code",
   "execution_count": 33,
   "source": [
    "from sklearn.pipeline import Pipeline\n",
    "\n",
    "preprocess_pipeline = Pipeline([\n",
    "    (\"email_to_wordcount\", EmailTransformer()),\n",
    "    (\"wordcount_to_vector\", WordCounterToVectorTransformer()),\n",
    "])\n",
    "\n",
    "X_train_transformed = preprocess_pipeline.fit_transform(X_train)"
   ],
   "outputs": [],
   "metadata": {}
  },
  {
   "cell_type": "code",
   "execution_count": null,
   "source": [
    "from sklearn.linear_model import LogisticRegression\n",
    "from sklearn.model_selection import cross_val_score\n",
    "\n",
    "log_clf = LogisticRegression(solver=\"liblinear\", random_state=42)\n",
    "score = cross_val_score(log_clf, X_train_transformed, y_train, cv=3, verbose=3)\n",
    "score.mean()\n"
   ],
   "outputs": [],
   "metadata": {}
  },
  {
   "cell_type": "code",
   "execution_count": null,
   "source": [],
   "outputs": [],
   "metadata": {}
  }
 ],
 "metadata": {
  "orig_nbformat": 4,
  "language_info": {
   "name": "python",
   "version": "3.8.10",
   "mimetype": "text/x-python",
   "codemirror_mode": {
    "name": "ipython",
    "version": 3
   },
   "pygments_lexer": "ipython3",
   "nbconvert_exporter": "python",
   "file_extension": ".py"
  },
  "kernelspec": {
   "name": "python3",
   "display_name": "Python 3.8.10 64-bit ('.env': venv)"
  },
  "interpreter": {
   "hash": "3b595b12c8077a94542b933dbf54294e0578bdcab310e5db17c861a07c1b8bb1"
  }
 },
 "nbformat": 4,
 "nbformat_minor": 2
}